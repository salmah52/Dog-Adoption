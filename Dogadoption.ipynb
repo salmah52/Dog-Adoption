{
 "cells": [
  {
   "attachments": {},
   "cell_type": "markdown",
   "metadata": {},
   "source": [
    "*Dog Adoption: Create and build data model and deploy into database with Python and PostgreSQL*"
   ]
  },
  {
   "cell_type": "code",
   "execution_count": 9,
   "metadata": {},
   "outputs": [],
   "source": [
    "# Import library\n",
    "\n",
    "import psycopg2\n",
    "import pandas as pd"
   ]
  },
  {
   "cell_type": "code",
   "execution_count": 8,
   "metadata": {},
   "outputs": [
    {
     "name": "stdout",
     "output_type": "stream",
     "text": [
      "Requirement already satisfied: psycopg2-binary in c:\\users\\lasis\\appdata\\local\\programs\\python\\python311\\lib\\site-packages (2.9.6)\n",
      "Note: you may need to restart the kernel to use updated packages.\n"
     ]
    }
   ],
   "source": [
    "pip install psycopg2-binary\n"
   ]
  },
  {
   "cell_type": "code",
   "execution_count": 6,
   "metadata": {},
   "outputs": [
    {
     "ename": "NameError",
     "evalue": "name 'psycopg2' is not defined",
     "output_type": "error",
     "traceback": [
      "\u001b[1;31m---------------------------------------------------------------------------\u001b[0m",
      "\u001b[1;31mNameError\u001b[0m                                 Traceback (most recent call last)",
      "Cell \u001b[1;32mIn[6], line 2\u001b[0m\n\u001b[0;32m      1\u001b[0m \u001b[39mtry\u001b[39;00m: \n\u001b[1;32m----> 2\u001b[0m     conn \u001b[39m=\u001b[39m psycopg2\u001b[39m.\u001b[39mconnect(\u001b[39m\"\u001b[39m\u001b[39mhost=127.0.0.1 dbname=postgres user=postgres password=root\u001b[39m\u001b[39m\"\u001b[39m)\n\u001b[0;32m      3\u001b[0m \u001b[39mexcept\u001b[39;00m psycopg2\u001b[39m.\u001b[39mError \u001b[39mas\u001b[39;00m e: \n",
      "\u001b[1;31mNameError\u001b[0m: name 'psycopg2' is not defined",
      "\nDuring handling of the above exception, another exception occurred:\n",
      "\u001b[1;31mNameError\u001b[0m                                 Traceback (most recent call last)",
      "Cell \u001b[1;32mIn[6], line 3\u001b[0m\n\u001b[0;32m      1\u001b[0m \u001b[39mtry\u001b[39;00m: \n\u001b[0;32m      2\u001b[0m     conn \u001b[39m=\u001b[39m psycopg2\u001b[39m.\u001b[39mconnect(\u001b[39m\"\u001b[39m\u001b[39mhost=127.0.0.1 dbname=postgres user=postgres password=root\u001b[39m\u001b[39m\"\u001b[39m)\n\u001b[1;32m----> 3\u001b[0m \u001b[39mexcept\u001b[39;00m psycopg2\u001b[39m.\u001b[39mError \u001b[39mas\u001b[39;00m e: \n\u001b[0;32m      4\u001b[0m     \u001b[39mprint\u001b[39m(\u001b[39m\"\u001b[39m\u001b[39mError: Could not make connection to the Postgres database\u001b[39m\u001b[39m\"\u001b[39m)\n\u001b[0;32m      5\u001b[0m     \u001b[39mprint\u001b[39m(e)\n",
      "\u001b[1;31mNameError\u001b[0m: name 'psycopg2' is not defined"
     ]
    }
   ],
   "source": [
    "try: \n",
    "    conn = psycopg2.connect(\"host=127.0.0.1 dbname=postgres user=postgres password=root\")\n",
    "except psycopg2.Error as e: \n",
    "    print(\"Error: Could not make connection to the Postgres database\")\n",
    "    print(e)"
   ]
  },
  {
   "cell_type": "code",
   "execution_count": 3,
   "metadata": {},
   "outputs": [],
   "source": [
    "# Create function to create database\n",
    "\n",
    "def create_database():\n",
    "    # Connect to database\n",
    "    conn = psycopg2.connect(\"host=127.0.0.1 dbname=test001 user=postgres password=postgres\")\n",
    "    # Use connection to get cursor to execute queries\n",
    "    cur = conn.cursor()\n",
    "    # Set automatic commit\n",
    "    conn.set_session(autocommit=True)\n",
    "    \n",
    "    # Create database\n",
    "    cur.execute(\"DROP DATABASE IF EXISTS dog_adoption\")\n",
    "    cur.execute(\"CREATE DATABASE dog_adoption\")\n",
    "    \n",
    "    # Close connection to default database\n",
    "    conn.close()\n",
    "    \n",
    "    # Connect to newly created database\n",
    "    conn = psycopg2.connect(\"host=127.0.0.1 dbname=dog_adoption user=postgres password=bobo5956\")\n",
    "    # Use connection to get cursor to execute queries\n",
    "    cur = conn.cursor()\n",
    "    # Set automatic commit\n",
    "    conn.set_session(autocommit=True)\n",
    "    \n",
    "    return cur, conn"
   ]
  },
  {
   "cell_type": "code",
   "execution_count": 4,
   "metadata": {},
   "outputs": [],
   "source": [
    "# Create function to drop table\n",
    "\n",
    "def drop_tables(cur, conn):\n",
    "    for query in drop_table_queries:\n",
    "        cur.execute(query)\n",
    "        conn.commit"
   ]
  },
  {
   "cell_type": "code",
   "execution_count": 5,
   "metadata": {},
   "outputs": [],
   "source": [
    "# Create function to create table\n",
    "\n",
    "def create_table(cur, conn):\n",
    "    for query in create_table_queries:\n",
    "        cur.execute(query)\n",
    "        conn.commit"
   ]
  }
 ],
 "metadata": {
  "kernelspec": {
   "display_name": "Python 3",
   "language": "python",
   "name": "python3"
  },
  "language_info": {
   "codemirror_mode": {
    "name": "ipython",
    "version": 3
   },
   "file_extension": ".py",
   "mimetype": "text/x-python",
   "name": "python",
   "nbconvert_exporter": "python",
   "pygments_lexer": "ipython3",
   "version": "3.11.2"
  },
  "orig_nbformat": 4
 },
 "nbformat": 4,
 "nbformat_minor": 2
}
